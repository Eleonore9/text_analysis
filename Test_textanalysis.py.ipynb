{
 "metadata": {
  "name": "",
  "signature": "sha256:63e1e8c16a848764fa1e10f75c7e841606c673b53556c8b3669b7983d7af4be6"
 },
 "nbformat": 3,
 "nbformat_minor": 0,
 "worksheets": [
  {
   "cells": [
    {
     "cell_type": "code",
     "collapsed": false,
     "input": [
      "%matplotlib inline \n",
      "#Magic command to display the plots in the notebook"
     ],
     "language": "python",
     "metadata": {},
     "outputs": [],
     "prompt_number": 1
    },
    {
     "cell_type": "code",
     "collapsed": false,
     "input": [
      "import matplotlib.pyplot as plt\n",
      "import numpy as np"
     ],
     "language": "python",
     "metadata": {},
     "outputs": [],
     "prompt_number": 2
    },
    {
     "cell_type": "code",
     "collapsed": true,
     "input": [
      "import count_words_letters_class as cwl #Class for words/letters counts and frequencies\n",
      "import my_text_analysis as mta #Helpers to display the words/letters counts/frequencies"
     ],
     "language": "python",
     "metadata": {},
     "outputs": [],
     "prompt_number": 3
    },
    {
     "cell_type": "code",
     "collapsed": false,
     "input": [
      "#Testing with \"Alice in Wonderland\"\n",
      "text_used = 'alice.txt'\n",
      "test_analysis = cwl.count_words_letters()\n",
      "dict_for_plot = mta.dict_plot_letters(text_used)\n",
      "#test_word = test_analysis.letters_freq(text_used)\n",
      "#print 'dictionary of letter frequencies: ', dict_for_plot"
     ],
     "language": "python",
     "metadata": {},
     "outputs": [
      {
       "output_type": "stream",
       "stream": "stdout",
       "text": [
        "TEXT:  alice.txt\n",
        "DICT COUNTS: "
       ]
      },
      {
       "output_type": "stream",
       "stream": "stdout",
       "text": [
        " {'a': 9802, 'c': 3000, 'b': 1746, 'e': 15395, 'd': 5469, 'g': 2943, 'f': 2382, 'i': 8633, 'h': 7889, 'k': 1290, 'j': 235, 'm': 2467, 'l': 5211, 'o': 9477, 'n': 8051, 'q': 220, 'p': 1968, 's': 7268, 'r': 6610, 'u': 3978, 't': 12200, 'w': 2952, 'v': 963, 'y': 2584, 'x': 176, 'z': 80}\n",
        "Total number of letters:  122989\n",
        "1st FREQ DICT:  {'a': 8.0, 'c': 2.4, 'b': 1.4, 'e': 12.5, 'd': 4.4, 'g': 2.4, 'f': 1.9, 'i': 7.0, 'h': 6.4, 'k': 1.0, 'j': 0.2, 'm': 2.0, 'l': 4.2, 'o': 7.7, 'n': 6.5, 'q': 0.2, 'p': 1.6, 's': 5.9, 'r': 5.4, 'u': 3.2, 't': 9.9, 'w': 2.4, 'v': 0.8, 'y': 2.1, 'x': 0.1, 'z': 0.1}\n",
        "2nd FREQ DICT:  {'count': [8.0, 1.4, 2.4, 4.4, 12.5, 1.9, 2.4, 6.4, 7.0, 0.2, 1.0, 4.2, 2.0, 6.5, 7.7, 1.6, 0.2, 5.4, 5.9, 9.9, 3.2, 0.8, 2.4, 0.1, 2.1, 0.1], 'letters': ['a', 'b', 'c', 'd', 'e', 'f', 'g', 'h', 'i', 'j', 'k', 'l', 'm', 'n', 'o', 'p', 'q', 'r', 's', 't', 'u', 'v', 'w', 'x', 'y', 'z']}\n"
       ]
      }
     ],
     "prompt_number": 11
    },
    {
     "cell_type": "code",
     "collapsed": false,
     "input": [
      "count = dict_for_plot.get(\"count\")\n",
      "#print count, len(count)\n",
      "letters = dict_for_plot.get(\"letters\")\n",
      "#print letters"
     ],
     "language": "python",
     "metadata": {},
     "outputs": [],
     "prompt_number": 12
    },
    {
     "cell_type": "code",
     "collapsed": false,
     "input": [
      "num_letters = len(count)\n",
      "#print num_letters"
     ],
     "language": "python",
     "metadata": {},
     "outputs": [],
     "prompt_number": 13
    },
    {
     "cell_type": "code",
     "collapsed": false,
     "input": [
      "ind = np.arange(num_letters)\n",
      "#print ind"
     ],
     "language": "python",
     "metadata": {},
     "outputs": [],
     "prompt_number": 14
    },
    {
     "cell_type": "code",
     "collapsed": false,
     "input": [
      "#fig, ax = plt.subplots() \n",
      "#I tried to use supblot earlier but I think it's useless in that case"
     ],
     "language": "python",
     "metadata": {},
     "outputs": [],
     "prompt_number": 15
    },
    {
     "cell_type": "code",
     "collapsed": false,
     "input": [
      "width = 0.75\n",
      "x_width = ind + width\n",
      "#print x_width.tolist()"
     ],
     "language": "python",
     "metadata": {},
     "outputs": [],
     "prompt_number": 27
    },
    {
     "cell_type": "code",
     "collapsed": false,
     "input": [
      "plt.bar(x_width, count, width)\n",
      "plt.ylabel('% of occurence')\n",
      "plt.xlabel('Letters')\n",
      "plt.xticks(ind, letters)\n",
      "plt.axis([0, 27, 0, 13])\n",
      "plt.title('Frequencies of letter in the file %s' %text_used)"
     ],
     "language": "python",
     "metadata": {},
     "outputs": [
      {
       "metadata": {},
       "output_type": "pyout",
       "prompt_number": 33,
       "text": [
        "<matplotlib.text.Text at 0xb78112c>"
       ]
      },
      {
       "metadata": {},
       "output_type": "display_data",
       "png": "[encoded data removed]",
       "text": [
        "<matplotlib.figure.Figure at 0xb65b40c>"
       ]
      }
     ],
     "prompt_number": 33
    },
    {
     "cell_type": "code",
     "collapsed": false,
     "input": [],
     "language": "python",
     "metadata": {},
     "outputs": [],
     "prompt_number": 10
    },
    {
     "cell_type": "code",
     "collapsed": false,
     "input": [],
     "language": "python",
     "metadata": {},
     "outputs": []
    }
   ],
   "metadata": {}
  }
 ]
}