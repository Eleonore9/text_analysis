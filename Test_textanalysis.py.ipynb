{
 "metadata": {
  "name": "",
  "signature": "sha256:bae01da0171e85ef7f33d86e608905108f3f74cc8a043b204bebd334b8b0c5d8"
 },
 "nbformat": 3,
 "nbformat_minor": 0,
 "worksheets": [
  {
   "cells": [
    {
     "cell_type": "code",
     "collapsed": false,
     "input": [
      "%matplotlib inline \n",
      "#Magic command to display the plots in the notebook"
     ],
     "language": "python",
     "metadata": {},
     "outputs": [],
     "prompt_number": 12
    },
    {
     "cell_type": "code",
     "collapsed": false,
     "input": [
      "import matplotlib.pyplot as plt\n",
      "import numpy as np"
     ],
     "language": "python",
     "metadata": {},
     "outputs": [],
     "prompt_number": 13
    },
    {
     "cell_type": "code",
     "collapsed": true,
     "input": [
      "import count_words_letters_class as cwl #Class for words/letters counts and frequencies\n",
      "import my_text_analysis as mta #Helpers to display the words/letters counts/frequencies"
     ],
     "language": "python",
     "metadata": {},
     "outputs": [],
     "prompt_number": 14
    },
    {
     "cell_type": "code",
     "collapsed": false,
     "input": [
      "#Testing with \"Alice in Wonderland\"\n",
      "text_used = 'alice.txt'\n",
      "test_analysis = cwl.count_words_letters()\n",
      "dict_for_plot = mta.list_for_plot_letters(text_used)\n",
      "#test_word = test_analysis.letters_freq(text_used)\n",
      "print 'dictionary of letter frequencies: ', dict_for_plot"
     ],
     "language": "python",
     "metadata": {},
     "outputs": [
      {
       "output_type": "stream",
       "stream": "stdout",
       "text": [
        "Total number of letters:  122989\n",
        "dictionary of letter frequencies:  {'count': [8.0, 2.4, 1.4, 12.5, 4.4, 2.4, 1.9, 7.0, 6.4, 1.0, 0.2, 2.0, 4.2, 7.7, 6.5, 0.2, 1.6, 5.9, 5.4, 3.2, 9.9, 2.4, 0.8, 2.1, 0.1, 0.1], 'letters': ['a', 'c', 'b', 'e', 'd', 'g', 'f', 'i', 'h', 'k', 'j', 'm', 'l', 'o', 'n', 'q', 'p', 's', 'r', 'u', 't', 'w', 'v', 'y', 'x', 'z']}\n"
       ]
      }
     ],
     "prompt_number": 15
    },
    {
     "cell_type": "code",
     "collapsed": false,
     "input": [
      "count = dict_for_plot.get(\"count\")\n",
      "#print count, len(count)\n",
      "letters = dict_for_plot.get(\"letters\")\n",
      "#print letters"
     ],
     "language": "python",
     "metadata": {},
     "outputs": [],
     "prompt_number": 16
    },
    {
     "cell_type": "code",
     "collapsed": false,
     "input": [
      "num_letters = len(count)\n",
      "#print num_letters"
     ],
     "language": "python",
     "metadata": {},
     "outputs": [],
     "prompt_number": 18
    },
    {
     "cell_type": "code",
     "collapsed": false,
     "input": [
      "ind = np.arange(num_letters)\n",
      "#print ind"
     ],
     "language": "python",
     "metadata": {},
     "outputs": [],
     "prompt_number": 19
    },
    {
     "cell_type": "code",
     "collapsed": false,
     "input": [
      "#fig, ax = plt.subplots() \n",
      "#I tried to use supblot earlier but I think it's useless in that case"
     ],
     "language": "python",
     "metadata": {},
     "outputs": [],
     "prompt_number": 20
    },
    {
     "cell_type": "code",
     "collapsed": false,
     "input": [
      "width = 0.65\n",
      "x_width = ind+width\n",
      "#print x_width.tolist()"
     ],
     "language": "python",
     "metadata": {},
     "outputs": [],
     "prompt_number": 22
    },
    {
     "cell_type": "code",
     "collapsed": false,
     "input": [
      "plt.bar(x_width, count, width)\n",
      "plt.ylabel('% of occurence')\n",
      "plt.xlabel('Letters')\n",
      "plt.xticks(ind, letters)\n",
      "plt.axis([0, 27, 0, 13])\n",
      "plt.title('Frequencies of letter in the file %s' %text_used)"
     ],
     "language": "python",
     "metadata": {},
     "outputs": []
    },
    {
     "cell_type": "code",
     "collapsed": false,
     "input": [],
     "language": "python",
     "metadata": {},
     "outputs": []
    }
   ],
   "metadata": {}
  }
 ]
}