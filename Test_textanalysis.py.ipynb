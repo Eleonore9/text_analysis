{
 "cells": [
  {
   "cell_type": "code",
   "execution_count": 1,
   "metadata": {},
   "outputs": [],
   "source": [
    "%matplotlib inline "
   ]
  },
  {
   "cell_type": "code",
   "execution_count": 2,
   "metadata": {},
   "outputs": [],
   "source": [
    "import matplotlib.pyplot as plt\n",
    "\n",
    "import matplotlib\n",
    "matplotlib.style.use('ggplot')\n",
    "\n",
    "import numpy as np\n",
    "\n",
    "import pandas as pd"
   ]
  },
  {
   "cell_type": "code",
   "execution_count": 3,
   "metadata": {},
   "outputs": [],
   "source": [
    "import clean_text_class as clean\n",
    "import count_words_letters_class as count"
   ]
  },
  {
   "cell_type": "code",
   "execution_count": 26,
   "metadata": {},
   "outputs": [
    {
     "name": "stdout",
     "output_type": "stream",
     "text": [
      "total 732\n",
      "-rw-rw-r-- 1 eleonore eleonore 167518 Feb  4 15:10 alice.txt\n",
      "-rw-rw-r-- 1 eleonore eleonore 284806 Feb  4 15:10 peterpan.txt\n",
      "-rw-rw-r-- 1 eleonore eleonore    290 Feb  4 15:10 sample.txt\n",
      "-rw-rw-r-- 1 eleonore eleonore   1024 Mar  2 00:03 test2.txt\n",
      "-rw-rw-r-- 1 eleonore eleonore    560 Feb  4 15:10 test.txt\n",
      "-rw-rw-r-- 1 eleonore eleonore 232779 Feb  4 15:10 wizardofoz.txt\n"
     ]
    }
   ],
   "source": [
    "%%bash\n",
    "ls -l books"
   ]
  },
  {
   "cell_type": "markdown",
   "metadata": {},
   "source": [
    "## Analysis book letters frequencies with pandas\n",
    "### => Testing my Gutengerg books cleaning and letters frequencies classes"
   ]
  },
  {
   "cell_type": "code",
   "execution_count": 19,
   "metadata": {
    "collapsed": true
   },
   "outputs": [],
   "source": [
    "books = [\"books/alice.txt\", \"books/peterpan.txt\", \"books/wizardofoz.txt\"]\n",
    "\n",
    "# Instantiate objects of the clean_text class:\n",
    "al, pe, wi = clean.clean_text(books[0]), clean.clean_text(books[1]), clean.clean_text(books[2])"
   ]
  },
  {
   "cell_type": "code",
   "execution_count": 24,
   "metadata": {},
   "outputs": [
    {
     "name": "stdout",
     "output_type": "stream",
     "text": [
      "No metadata found!\n",
      "{'author': 'Lewis Carroll', 'language': 'English', 'title': \"Alice's Adventures in Wonderland\"} \n",
      "{'author': 'James M. Barrie', 'language': '', 'title': 'Peter Pan'} \n",
      "{'author': 'L. Frank Baum', 'language': 'English', 'title': 'The Wonderful Wizard of Oz'}\n"
     ]
    }
   ],
   "source": [
    "# Retrieve Gutenberg books metadata:\n",
    "meta_al, meta_pe, meta_wi = al.get_metadata(al.text), pe.get_metadata(pe.text), wi.get_metadata(wi.text)\n",
    "\n",
    "print(meta_al, '\\n', meta_pe, '\\n', meta_wi)"
   ]
  },
  {
   "cell_type": "code",
   "execution_count": 25,
   "metadata": {},
   "outputs": [],
   "source": [
    "# Remove metadata, chapter numbers, punctuation:\n",
    "rm_al, rm_pe, rm_wi = al.remove_metadata(al.text), pe.remove_metadata(pe.text), wi.remove_metadata(wi.text)\n",
    "rc_al, rc_pe, rc_wi = al.remove_chapters(rm_al), pe.remove_chapters(rm_pe), wi.remove_chapters(rm_wi)\n",
    "rp_al, rp_pe, rp_wi = al.remove_punctuation(rc_al), pe.remove_punctuation(rc_pe), wi.remove_punctuation(rc_wi)\n",
    "l_al, l_pe, l_wi = al.text_letters(rp_al), pe.text_letters(rp_pe), wi.text_letters(rp_wi)"
   ]
  },
  {
   "cell_type": "code",
   "execution_count": 27,
   "metadata": {
    "collapsed": true
   },
   "outputs": [],
   "source": [
    "# Instantiate objects of the analyse_letters class:\n",
    "ali, pet, wiz = count.analyse_letters(l_al), count.analyse_letters(l_pe), count.analyse_letters(l_wi)"
   ]
  },
  {
   "cell_type": "code",
   "execution_count": 32,
   "metadata": {},
   "outputs": [
    {
     "name": "stdout",
     "output_type": "stream",
     "text": [
      "[\"Alice's Adventures in Wonderland\", 'The Wonderful Wizard of Oz', 'Peter Pan']\n"
     ]
    }
   ],
   "source": [
    "# Calculate book letters frequencies:\n",
    "\n",
    "c_ali, c_pet, c_wiz = ali.letters_count(ali.letters), pet.letters_count(pet.letters), wiz.letters_count(wiz.letters)\n",
    "\n",
    "#print c_ali, '\\n', c_pet, '\\n', c_wiz\n",
    "\n",
    "freqs = {meta_al.get('title'): ali.letters_freq_pd(c_ali),\n",
    "         meta_pe.get('title'): pet.letters_freq_pd(c_pet),\n",
    "         meta_wi.get('title'): wiz.letters_freq_pd(c_wiz)}\n",
    "\n",
    "print(freqs.keys())"
   ]
  },
  {
   "cell_type": "code",
   "execution_count": 36,
   "metadata": {},
   "outputs": [
    {
     "name": "stdout",
     "output_type": "stream",
     "text": [
      "['a', 'b', 'c', 'd', 'e', 'f', 'g', 'h', 'i', 'j', 'k', 'l', 'm', 'n', 'o', 'p', 'q', 'r', 's', 't', 'u', 'v', 'w', 'x', 'y', 'z']\n"
     ]
    }
   ],
   "source": [
    "print(ali.alphabet)\n",
    "\n",
    "analyse_letters = pd.DataFrame(index = ali.alphabet, data = freqs)"
   ]
  },
  {
   "cell_type": "code",
   "execution_count": 40,
   "metadata": {},
   "outputs": [
    {
     "data": {
      "text/html": [
       "<div style=\"max-height:1000px;max-width:1500px;overflow:auto;\">\n",
       "<table border=\"1\" class=\"dataframe\">\n",
       "  <thead>\n",
       "    <tr style=\"text-align: right;\">\n",
       "      <th></th>\n",
       "      <th>Alice's Adventures in Wonderland</th>\n",
       "      <th>Peter Pan</th>\n",
       "      <th>The Wonderful Wizard of Oz</th>\n",
       "    </tr>\n",
       "  </thead>\n",
       "  <tbody>\n",
       "    <tr>\n",
       "      <th>a</th>\n",
       "      <td>8.0</td>\n",
       "      <td>7.6</td>\n",
       "      <td>8.0</td>\n",
       "    </tr>\n",
       "    <tr>\n",
       "      <th>b</th>\n",
       "      <td>1.4</td>\n",
       "      <td>1.6</td>\n",
       "      <td>1.4</td>\n",
       "    </tr>\n",
       "    <tr>\n",
       "      <th>c</th>\n",
       "      <td>2.4</td>\n",
       "      <td>2.2</td>\n",
       "      <td>2.4</td>\n",
       "    </tr>\n",
       "    <tr>\n",
       "      <th>d</th>\n",
       "      <td>4.5</td>\n",
       "      <td>4.6</td>\n",
       "      <td>5.1</td>\n",
       "    </tr>\n",
       "    <tr>\n",
       "      <th>e</th>\n",
       "      <td>12.5</td>\n",
       "      <td>12.8</td>\n",
       "      <td>12.8</td>\n",
       "    </tr>\n",
       "    <tr>\n",
       "      <th>f</th>\n",
       "      <td>1.9</td>\n",
       "      <td>1.9</td>\n",
       "      <td>2.1</td>\n",
       "    </tr>\n",
       "    <tr>\n",
       "      <th>g</th>\n",
       "      <td>2.4</td>\n",
       "      <td>2.1</td>\n",
       "      <td>2.1</td>\n",
       "    </tr>\n",
       "    <tr>\n",
       "      <th>h</th>\n",
       "      <td>6.4</td>\n",
       "      <td>7.1</td>\n",
       "      <td>6.9</td>\n",
       "    </tr>\n",
       "    <tr>\n",
       "      <th>i</th>\n",
       "      <td>7.0</td>\n",
       "      <td>6.6</td>\n",
       "      <td>5.9</td>\n",
       "    </tr>\n",
       "    <tr>\n",
       "      <th>j</th>\n",
       "      <td>0.2</td>\n",
       "      <td>0.2</td>\n",
       "      <td>0.1</td>\n",
       "    </tr>\n",
       "    <tr>\n",
       "      <th>k</th>\n",
       "      <td>1.1</td>\n",
       "      <td>1.0</td>\n",
       "      <td>1.1</td>\n",
       "    </tr>\n",
       "    <tr>\n",
       "      <th>l</th>\n",
       "      <td>4.2</td>\n",
       "      <td>4.1</td>\n",
       "      <td>4.2</td>\n",
       "    </tr>\n",
       "    <tr>\n",
       "      <th>m</th>\n",
       "      <td>2.0</td>\n",
       "      <td>2.2</td>\n",
       "      <td>2.2</td>\n",
       "    </tr>\n",
       "    <tr>\n",
       "      <th>n</th>\n",
       "      <td>6.5</td>\n",
       "      <td>6.7</td>\n",
       "      <td>6.2</td>\n",
       "    </tr>\n",
       "    <tr>\n",
       "      <th>o</th>\n",
       "      <td>7.7</td>\n",
       "      <td>7.4</td>\n",
       "      <td>8.2</td>\n",
       "    </tr>\n",
       "    <tr>\n",
       "      <th>p</th>\n",
       "      <td>1.6</td>\n",
       "      <td>1.7</td>\n",
       "      <td>1.4</td>\n",
       "    </tr>\n",
       "    <tr>\n",
       "      <th>q</th>\n",
       "      <td>0.2</td>\n",
       "      <td>0.1</td>\n",
       "      <td>0.1</td>\n",
       "    </tr>\n",
       "    <tr>\n",
       "      <th>r</th>\n",
       "      <td>5.4</td>\n",
       "      <td>5.6</td>\n",
       "      <td>6.0</td>\n",
       "    </tr>\n",
       "    <tr>\n",
       "      <th>s</th>\n",
       "      <td>5.9</td>\n",
       "      <td>6.1</td>\n",
       "      <td>5.6</td>\n",
       "    </tr>\n",
       "    <tr>\n",
       "      <th>t</th>\n",
       "      <td>9.9</td>\n",
       "      <td>9.5</td>\n",
       "      <td>9.4</td>\n",
       "    </tr>\n",
       "    <tr>\n",
       "      <th>u</th>\n",
       "      <td>3.2</td>\n",
       "      <td>2.8</td>\n",
       "      <td>2.6</td>\n",
       "    </tr>\n",
       "    <tr>\n",
       "      <th>v</th>\n",
       "      <td>0.8</td>\n",
       "      <td>0.8</td>\n",
       "      <td>0.7</td>\n",
       "    </tr>\n",
       "    <tr>\n",
       "      <th>w</th>\n",
       "      <td>2.4</td>\n",
       "      <td>2.8</td>\n",
       "      <td>3.0</td>\n",
       "    </tr>\n",
       "    <tr>\n",
       "      <th>x</th>\n",
       "      <td>0.1</td>\n",
       "      <td>0.1</td>\n",
       "      <td>0.1</td>\n",
       "    </tr>\n",
       "    <tr>\n",
       "      <th>y</th>\n",
       "      <td>2.1</td>\n",
       "      <td>2.4</td>\n",
       "      <td>2.4</td>\n",
       "    </tr>\n",
       "    <tr>\n",
       "      <th>z</th>\n",
       "      <td>0.1</td>\n",
       "      <td>0.0</td>\n",
       "      <td>0.2</td>\n",
       "    </tr>\n",
       "  </tbody>\n",
       "</table>\n",
       "</div>"
      ],
      "text/plain": [
       "   Alice's Adventures in Wonderland  Peter Pan  The Wonderful Wizard of Oz\n",
       "a                               8.0        7.6                         8.0\n",
       "b                               1.4        1.6                         1.4\n",
       "c                               2.4        2.2                         2.4\n",
       "d                               4.5        4.6                         5.1\n",
       "e                              12.5       12.8                        12.8\n",
       "f                               1.9        1.9                         2.1\n",
       "g                               2.4        2.1                         2.1\n",
       "h                               6.4        7.1                         6.9\n",
       "i                               7.0        6.6                         5.9\n",
       "j                               0.2        0.2                         0.1\n",
       "k                               1.1        1.0                         1.1\n",
       "l                               4.2        4.1                         4.2\n",
       "m                               2.0        2.2                         2.2\n",
       "n                               6.5        6.7                         6.2\n",
       "o                               7.7        7.4                         8.2\n",
       "p                               1.6        1.7                         1.4\n",
       "q                               0.2        0.1                         0.1\n",
       "r                               5.4        5.6                         6.0\n",
       "s                               5.9        6.1                         5.6\n",
       "t                               9.9        9.5                         9.4\n",
       "u                               3.2        2.8                         2.6\n",
       "v                               0.8        0.8                         0.7\n",
       "w                               2.4        2.8                         3.0\n",
       "x                               0.1        0.1                         0.1\n",
       "y                               2.1        2.4                         2.4\n",
       "z                               0.1        0.0                         0.2"
      ]
     },
     "execution_count": 40,
     "metadata": {},
     "output_type": "execute_result"
    }
   ],
   "source": [
    "analyse_letters"
   ]
  },
  {
   "cell_type": "code",
   "execution_count": 44,
   "metadata": {},
   "outputs": [
    {
     "data": {
      "text/plain": [
       "<matplotlib.axes._subplots.AxesSubplot at 0x7f17f6a84b10>"
      ]
     },
     "execution_count": 44,
     "metadata": {},
     "output_type": "execute_result"
    },
    {
     "data": {
      "image/png": "[encoded data removed]",
      "text/plain": [
       "<matplotlib.figure.Figure at 0x7f17f6a84510>"
      ]
     },
     "metadata": {},
     "output_type": "display_data"
    }
   ],
   "source": [
    "analyse_letters.plot(kind='bar', figsize=(12, 6))"
   ]
  },
  {
   "cell_type": "markdown",
   "metadata": {
    "collapsed": true
   },
   "source": [
    "## => (Very) basic stats"
   ]
  },
  {
   "cell_type": "code",
   "execution_count": 52,
   "metadata": {},
   "outputs": [],
   "source": [
    "means = analyse_letters.mean(1)\n",
    "stds = analyse_letters.std(1)"
   ]
  },
  {
   "cell_type": "code",
   "execution_count": 54,
   "metadata": {},
   "outputs": [
    {
     "data": {
      "text/plain": [
       "<matplotlib.axes._subplots.AxesSubplot at 0x7f17f644fb50>"
      ]
     },
     "execution_count": 54,
     "metadata": {},
     "output_type": "execute_result"
    },
    {
     "data": {
      "image/png": "[encoded data removed]",
      "text/plain": [
       "<matplotlib.figure.Figure at 0x7f17f6462b10>"
      ]
     },
     "metadata": {},
     "output_type": "display_data"
    }
   ],
   "source": [
    "# Plotting the mean of letters frequencies:\n",
    "\n",
    "means.plot(kind='bar', color='g')"
   ]
  },
  {
   "cell_type": "code",
   "execution_count": 63,
   "metadata": {},
   "outputs": [
    {
     "data": {
      "text/html": [
       "<div style=\"max-height:1000px;max-width:1500px;overflow:auto;\">\n",
       "<table border=\"1\" class=\"dataframe\">\n",
       "  <thead>\n",
       "    <tr style=\"text-align: right;\">\n",
       "      <th></th>\n",
       "      <th>a</th>\n",
       "      <th>b</th>\n",
       "      <th>c</th>\n",
       "      <th>d</th>\n",
       "      <th>e</th>\n",
       "      <th>f</th>\n",
       "      <th>g</th>\n",
       "      <th>h</th>\n",
       "      <th>i</th>\n",
       "      <th>j</th>\n",
       "      <th>...</th>\n",
       "      <th>q</th>\n",
       "      <th>r</th>\n",
       "      <th>s</th>\n",
       "      <th>t</th>\n",
       "      <th>u</th>\n",
       "      <th>v</th>\n",
       "      <th>w</th>\n",
       "      <th>x</th>\n",
       "      <th>y</th>\n",
       "      <th>z</th>\n",
       "    </tr>\n",
       "  </thead>\n",
       "  <tbody>\n",
       "    <tr>\n",
       "      <th>Alice's Adventures in Wonderland</th>\n",
       "      <td>8.0</td>\n",
       "      <td>1.4</td>\n",
       "      <td>2.4</td>\n",
       "      <td>4.5</td>\n",
       "      <td>12.5</td>\n",
       "      <td>1.9</td>\n",
       "      <td>2.4</td>\n",
       "      <td>6.4</td>\n",
       "      <td>7.0</td>\n",
       "      <td>0.2</td>\n",
       "      <td>...</td>\n",
       "      <td>0.2</td>\n",
       "      <td>5.4</td>\n",
       "      <td>5.9</td>\n",
       "      <td>9.9</td>\n",
       "      <td>3.2</td>\n",
       "      <td>0.8</td>\n",
       "      <td>2.4</td>\n",
       "      <td>0.1</td>\n",
       "      <td>2.1</td>\n",
       "      <td>0.1</td>\n",
       "    </tr>\n",
       "    <tr>\n",
       "      <th>Peter Pan</th>\n",
       "      <td>7.6</td>\n",
       "      <td>1.6</td>\n",
       "      <td>2.2</td>\n",
       "      <td>4.6</td>\n",
       "      <td>12.8</td>\n",
       "      <td>1.9</td>\n",
       "      <td>2.1</td>\n",
       "      <td>7.1</td>\n",
       "      <td>6.6</td>\n",
       "      <td>0.2</td>\n",
       "      <td>...</td>\n",
       "      <td>0.1</td>\n",
       "      <td>5.6</td>\n",
       "      <td>6.1</td>\n",
       "      <td>9.5</td>\n",
       "      <td>2.8</td>\n",
       "      <td>0.8</td>\n",
       "      <td>2.8</td>\n",
       "      <td>0.1</td>\n",
       "      <td>2.4</td>\n",
       "      <td>0.0</td>\n",
       "    </tr>\n",
       "    <tr>\n",
       "      <th>The Wonderful Wizard of Oz</th>\n",
       "      <td>8.0</td>\n",
       "      <td>1.4</td>\n",
       "      <td>2.4</td>\n",
       "      <td>5.1</td>\n",
       "      <td>12.8</td>\n",
       "      <td>2.1</td>\n",
       "      <td>2.1</td>\n",
       "      <td>6.9</td>\n",
       "      <td>5.9</td>\n",
       "      <td>0.1</td>\n",
       "      <td>...</td>\n",
       "      <td>0.1</td>\n",
       "      <td>6.0</td>\n",
       "      <td>5.6</td>\n",
       "      <td>9.4</td>\n",
       "      <td>2.6</td>\n",
       "      <td>0.7</td>\n",
       "      <td>3.0</td>\n",
       "      <td>0.1</td>\n",
       "      <td>2.4</td>\n",
       "      <td>0.2</td>\n",
       "    </tr>\n",
       "  </tbody>\n",
       "</table>\n",
       "<p>3 rows × 26 columns</p>\n",
       "</div>"
      ],
      "text/plain": [
       "                                    a    b    c    d     e    f    g    h  \\\n",
       "Alice's Adventures in Wonderland  8.0  1.4  2.4  4.5  12.5  1.9  2.4  6.4   \n",
       "Peter Pan                         7.6  1.6  2.2  4.6  12.8  1.9  2.1  7.1   \n",
       "The Wonderful Wizard of Oz        8.0  1.4  2.4  5.1  12.8  2.1  2.1  6.9   \n",
       "\n",
       "                                    i    j ...     q    r    s    t    u    v  \\\n",
       "Alice's Adventures in Wonderland  7.0  0.2 ...   0.2  5.4  5.9  9.9  3.2  0.8   \n",
       "Peter Pan                         6.6  0.2 ...   0.1  5.6  6.1  9.5  2.8  0.8   \n",
       "The Wonderful Wizard of Oz        5.9  0.1 ...   0.1  6.0  5.6  9.4  2.6  0.7   \n",
       "\n",
       "                                    w    x    y    z  \n",
       "Alice's Adventures in Wonderland  2.4  0.1  2.1  0.1  \n",
       "Peter Pan                         2.8  0.1  2.4  0.0  \n",
       "The Wonderful Wizard of Oz        3.0  0.1  2.4  0.2  \n",
       "\n",
       "[3 rows x 26 columns]"
      ]
     },
     "execution_count": 63,
     "metadata": {},
     "output_type": "execute_result"
    }
   ],
   "source": [
    "letters_analysis = analyse_letters.transpose()\n",
    "letters_analysis"
   ]
  },
  {
   "cell_type": "code",
   "execution_count": 67,
   "metadata": {},
   "outputs": [
    {
     "data": {
      "text/plain": [
       "<matplotlib.axes._subplots.AxesSubplot at 0x7f17f5555ad0>"
      ]
     },
     "execution_count": 67,
     "metadata": {},
     "output_type": "execute_result"
    },
    {
     "data": {
      "image/png": "[encoded data removed]",
      "text/plain": [
       "<matplotlib.figure.Figure at 0x7f17f55552d0>"
      ]
     },
     "metadata": {},
     "output_type": "display_data"
    }
   ],
   "source": [
    "letters_analysis.plot(kind='box', figsize=(12, 6))"
   ]
  },
  {
   "cell_type": "markdown",
   "metadata": {},
   "source": [
    "###-> Only 3 books tested but the variability seems very low => Is the variability higher between books of different languages?"
   ]
  },
  {
   "cell_type": "markdown",
   "metadata": {},
   "source": [
    "#### To be continued =)"
   ]
  }
 ],
 "metadata": {
  "kernelspec": {
   "display_name": "Python 3",
   "language": "python",
   "name": "python3"
  },
  "language_info": {
   "codemirror_mode": {
    "name": "ipython",
    "version": 3
   },
   "file_extension": ".py",
   "mimetype": "text/x-python",
   "name": "python",
   "nbconvert_exporter": "python",
   "pygments_lexer": "ipython3",
   "version": "3.7.1"
  }
 },
 "nbformat": 4,
 "nbformat_minor": 1
}
