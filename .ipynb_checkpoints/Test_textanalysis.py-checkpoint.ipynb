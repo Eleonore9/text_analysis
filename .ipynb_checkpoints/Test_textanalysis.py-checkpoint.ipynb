{
 "metadata": {
  "name": "",
  "signature": "sha256:7aea3ff53ea5bc33a13b219425745df89dbcf94e2a5a04c14372e52a95eb3c34"
 },
 "nbformat": 3,
 "nbformat_minor": 0,
 "worksheets": [
  {
   "cells": [
    {
     "cell_type": "code",
     "collapsed": false,
     "input": [
      "%matplotlib inline \n",
      "#Magic command to display the plots in the notebook"
     ],
     "language": "python",
     "metadata": {},
     "outputs": [],
     "prompt_number": 2
    },
    {
     "cell_type": "code",
     "collapsed": false,
     "input": [
      "import matplotlib.pyplot as plt\n",
      "import numpy as np"
     ],
     "language": "python",
     "metadata": {},
     "outputs": [],
     "prompt_number": 3
    },
    {
     "cell_type": "code",
     "collapsed": true,
     "input": [
      "import count_words_letters_class as cwl #Class for words/letters counts and frequencies\n",
      "import my_text_analysis as mta #Helpers to display the words/letters counts/frequencies"
     ],
     "language": "python",
     "metadata": {},
     "outputs": [],
     "prompt_number": 4
    },
    {
     "cell_type": "code",
     "collapsed": false,
     "input": [
      "#Testing with \"Alice in Wonderland\"\n",
      "text_used = 'alice.txt'\n",
      "test_analysis = cwl.count_words_letters()\n",
      "test_word = test_analysis.letters_freq(text_used)\n",
      "print test_word"
     ],
     "language": "python",
     "metadata": {},
     "outputs": [
      {
       "output_type": "stream",
       "stream": "stdout",
       "text": [
        "{'a': 8.0, 'c': 2.4, 'b': 1.4, 'e': 12.5, 'd': 4.4, 'g': 2.4, 'f': 1.9, 'i': 7.0, 'h': 6.4, 'k': 1.0, 'j': 0.2, 'm': 2.0, 'l': 4.2, 'o': 7.7, 'n': 6.5, 'q': 0.2, 'p': 1.6, 's': 5.9, 'r': 5.4, 'u': 3.2, 't': 9.9, 'w': 2.4, 'v': 0.8, 'y': 2.1, 'x': 0.1, 'z': 0.1}\n"
       ]
      }
     ],
     "prompt_number": 5
    },
    {
     "cell_type": "code",
     "collapsed": true,
     "input": [
      "test_list_for_plot = mta.list_for_plot_letters(text_used)"
     ],
     "language": "python",
     "metadata": {},
     "outputs": [],
     "prompt_number": 6
    },
    {
     "cell_type": "code",
     "collapsed": false,
     "input": [
      "count = test_list_for_plot.get(\"count\")\n",
      "print count, len(count)\n",
      "letters = test_list_for_plot.get(\"letters\")\n",
      "print letters"
     ],
     "language": "python",
     "metadata": {},
     "outputs": [
      {
       "output_type": "stream",
       "stream": "stdout",
       "text": [
        "[8.0, 2.4, 1.4, 12.5, 4.4, 2.4, 1.9, 7.0, 6.4, 1.0, 0.2, 2.0, 4.2, 7.7, 6.5, 0.2, 1.6, 5.9, 5.4, 3.2, 9.9, 2.4, 0.8, 2.1, 0.1, 0.1] 26\n",
        "['a', 'c', 'b', 'e', 'd', 'g', 'f', 'i', 'h', 'k', 'j', 'm', 'l', 'o', 'n', 'q', 'p', 's', 'r', 'u', 't', 'w', 'v', 'y', 'x', 'z']\n"
       ]
      }
     ],
     "prompt_number": 7
    },
    {
     "cell_type": "code",
     "collapsed": false,
     "input": [
      "num_letters = len(count)\n",
      "print num_letters"
     ],
     "language": "python",
     "metadata": {},
     "outputs": [
      {
       "output_type": "stream",
       "stream": "stdout",
       "text": [
        "26\n"
       ]
      }
     ],
     "prompt_number": 8
    },
    {
     "cell_type": "code",
     "collapsed": false,
     "input": [
      "ind = np.arange(num_letters)\n",
      "print ind"
     ],
     "language": "python",
     "metadata": {},
     "outputs": [
      {
       "output_type": "stream",
       "stream": "stdout",
       "text": [
        "[ 0  1  2  3  4  5  6  7  8  9 10 11 12 13 14 15 16 17 18 19 20 21 22 23 24\n",
        " 25]\n"
       ]
      }
     ],
     "prompt_number": 9
    },
    {
     "cell_type": "code",
     "collapsed": false,
     "input": [
      "#fig, ax = plt.subplots() \n",
      "#I tried to use supblot earlier but i think it's useless in that case"
     ],
     "language": "python",
     "metadata": {},
     "outputs": [],
     "prompt_number": 10
    },
    {
     "cell_type": "code",
     "collapsed": false,
     "input": [
      "width = 0.65\n",
      "x_width = ind+width\n",
      "print x_width.tolist()"
     ],
     "language": "python",
     "metadata": {},
     "outputs": [
      {
       "output_type": "stream",
       "stream": "stdout",
       "text": [
        "[0.65, 1.65, 2.65, 3.65, 4.65, 5.65, 6.65, 7.65, 8.65, 9.65, 10.65, 11.65, 12.65, 13.65, 14.65, 15.65, 16.65, 17.65, 18.65, 19.65, 20.65, 21.65, 22.65, 23.65, 24.65, 25.65]\n"
       ]
      }
     ],
     "prompt_number": 11
    },
    {
     "cell_type": "code",
     "collapsed": false,
     "input": [
      "plt.bar(x_width, count, width)\n",
      "plt.ylabel('% of occurence')\n",
      "plt.xlabel('Letters')\n",
      "plt.axis([0, 27, 0, 13])\n",
      "plt.title('Frequencies of letter in the file %s' %text_used)"
     ],
     "language": "python",
     "metadata": {},
     "outputs": [
      {
       "metadata": {},
       "output_type": "pyout",
       "prompt_number": 32,
       "text": [
        "<matplotlib.text.Text at 0xb7295ec>"
       ]
      },
      {
       "metadata": {},
       "output_type": "display_data",
       "png": "[encoded data removed]",
       "text": [
        "<matplotlib.figure.Figure at 0xb2652cc>"
       ]
      }
     ],
     "prompt_number": 32
    },
    {
     "cell_type": "code",
     "collapsed": false,
     "input": [],
     "language": "python",
     "metadata": {},
     "outputs": []
    }
   ],
   "metadata": {}
  }
 ]
}