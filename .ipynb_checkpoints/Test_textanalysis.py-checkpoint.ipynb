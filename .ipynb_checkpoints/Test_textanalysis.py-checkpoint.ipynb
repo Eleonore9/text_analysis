{
 "metadata": {
  "name": "",
  "signature": "sha256:ef47fc76a292ded5f0cf7a724971a26a157d010b8768a5e3a2d81934b710258c"
 },
 "nbformat": 3,
 "nbformat_minor": 0,
 "worksheets": [
  {
   "cells": [
    {
     "cell_type": "code",
     "collapsed": false,
     "input": [
      "%matplotlib inline "
     ],
     "language": "python",
     "metadata": {},
     "outputs": [],
     "prompt_number": 1
    },
    {
     "cell_type": "code",
     "collapsed": false,
     "input": [
      "import matplotlib.pyplot as plt\n",
      "import numpy as np"
     ],
     "language": "python",
     "metadata": {},
     "outputs": [],
     "prompt_number": 2
    },
    {
     "cell_type": "code",
     "collapsed": true,
     "input": [
      "import clean_text_class as clean\n",
      "import count_words_letters_class as count"
     ],
     "language": "python",
     "metadata": {},
     "outputs": [],
     "prompt_number": 3
    },
    {
     "cell_type": "code",
     "collapsed": false,
     "input": [
      "c = clean.clean_text('books/alice.txt')\n",
      "print c.store_metadata(c.text)"
     ],
     "language": "python",
     "metadata": {},
     "outputs": [
      {
       "output_type": "stream",
       "stream": "stdout",
       "text": [
        "{'author': 'Lewis Carroll', 'language': 'English', 'title': \"Alice's Adventures in Wonderland\"}\n"
       ]
      }
     ],
     "prompt_number": 4
    },
    {
     "cell_type": "code",
     "collapsed": false,
     "input": [
      "rm = c.remove_metadata(c.text)\n",
      "rc = c.remove_chapters(rm)\n",
      "rp = c.remove_punctuation(rc)\n",
      "letters = c.text_letters(rp)"
     ],
     "language": "python",
     "metadata": {},
     "outputs": [],
     "prompt_number": 9
    },
    {
     "cell_type": "code",
     "collapsed": false,
     "input": [
      "a = count.analyse_letters(letters)\n",
      "freqs = a.letters_freq(a.letters_count(a.letters))\n",
      "print freqs"
     ],
     "language": "python",
     "metadata": {},
     "outputs": [
      {
       "output_type": "stream",
       "stream": "stdout",
       "text": [
        "[('a', 8.0), ('b', 1.4), ('c', 2.4), ('d', 4.5), ('e', 12.5), ('f', 1.9), ('g', 2.4), ('h', 6.4), ('i', 7.0), ('j', 0.2), ('k', 1.1), ('l', 4.2), ('m', 2.0), ('n', 6.5), ('o', 7.7), ('p', 1.6), ('q', 0.2), ('r', 5.4), ('s', 5.9), ('t', 9.9), ('u', 3.2), ('v', 0.8), ('w', 2.4), ('x', 0.1), ('y', 2.1), ('z', 0.1)]\n"
       ]
      }
     ],
     "prompt_number": 11
    },
    {
     "cell_type": "code",
     "collapsed": false,
     "input": [
      "a.plot_letters(freqs)"
     ],
     "language": "python",
     "metadata": {},
     "outputs": [
      {
       "metadata": {},
       "output_type": "display_data",
       "png": "[encoded data removed]",
       "text": [
        "<matplotlib.figure.Figure at 0x7f08cc094510>"
       ]
      }
     ],
     "prompt_number": 12
    },
    {
     "cell_type": "code",
     "collapsed": false,
     "input": [],
     "language": "python",
     "metadata": {},
     "outputs": []
    }
   ],
   "metadata": {}
  }
 ]
}