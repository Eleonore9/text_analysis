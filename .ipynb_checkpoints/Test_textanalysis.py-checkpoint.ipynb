{
 "metadata": {
  "name": "",
  "signature": "sha256:1ca3f08e24ae84dbf6161ccb63888e217bb9f6cffe9465ee3400fccebf93ad1d"
 },
 "nbformat": 3,
 "nbformat_minor": 0,
 "worksheets": [
  {
   "cells": [
    {
     "cell_type": "code",
     "collapsed": false,
     "input": [
      "%matplotlib inline"
     ],
     "language": "python",
     "metadata": {},
     "outputs": [],
     "prompt_number": 28
    },
    {
     "cell_type": "code",
     "collapsed": true,
     "input": [
      "import count_words_letters_class as cwl\n",
      "import my_text_analysis as mta"
     ],
     "language": "python",
     "metadata": {},
     "outputs": [],
     "prompt_number": 1
    },
    {
     "cell_type": "code",
     "collapsed": false,
     "input": [
      "test_analysis = cwl.count_words_letters()\n",
      "test_word = test_analysis.letters_freq('alice.txt')\n",
      "print test_word"
     ],
     "language": "python",
     "metadata": {},
     "outputs": [
      {
       "output_type": "stream",
       "stream": "stdout",
       "text": [
        "{'a': 8.0, 'c': 2.4, 'b': 1.4, 'e': 12.5, 'd': 4.4, 'g': 2.4, 'f': 1.9, 'i': 7.0, 'h': 6.4, 'k': 1.0, 'j': 0.2, 'm': 2.0, 'l': 4.2, 'o': 7.7, 'n': 6.5, 'q': 0.2, 'p': 1.6, 's': 5.9, 'r': 5.4, 'u': 3.2, 't': 9.9, 'w': 2.4, 'v': 0.8, 'y': 2.1, 'x': 0.1, 'z': 0.1}"
       ]
      }
     ],
     "prompt_number": 10
    },
    {
     "cell_type": "code",
     "collapsed": true,
     "input": [
      "test_list_for_plot = mta.list_for_plot_letters('sample.txt')"
     ],
     "language": "python",
     "metadata": {},
     "outputs": [],
     "prompt_number": 6
    },
    {
     "cell_type": "code",
     "collapsed": false,
     "input": [
      "count = test_list_for_plot.get(\"count\")"
     ],
     "language": "python",
     "metadata": {},
     "outputs": [],
     "prompt_number": 16
    },
    {
     "cell_type": "code",
     "collapsed": false,
     "input": [
      "import matplotlib.pyplot as plt"
     ],
     "language": "python",
     "metadata": {},
     "outputs": [],
     "prompt_number": 14
    },
    {
     "cell_type": "code",
     "collapsed": false,
     "input": [
      "print range(len(count)), count"
     ],
     "language": "python",
     "metadata": {},
     "outputs": [
      {
       "output_type": "stream",
       "stream": "stdout",
       "text": [
        "[0, 1, 2, 3, 4, 5, 6, 7, 8, 9, 10, 11, 12, 13, 14, 15, 16, 17, 18, 19, 20, 21] [7.0, 2.2, 2.2, 13.6, 5.7, 2.2, 1.8, 7.5, 7.5, 1.3, 1.3, 4.4, 5.3, 6.6, 2.6, 7.0, 5.3, 3.1, 6.1, 3.9, 0.4, 3.1]\n"
       ]
      }
     ],
     "prompt_number": 26
    },
    {
     "cell_type": "code",
     "collapsed": false,
     "input": [
      "plt.bar(range(len(count)), count)"
     ],
     "language": "python",
     "metadata": {},
     "outputs": [
      {
       "metadata": {},
       "output_type": "pyout",
       "prompt_number": 30,
       "text": [
        "<Container object of 22 artists>"
       ]
      },
      {
       "metadata": {},
       "output_type": "display_data",
       "png": "[encoded data removed]",
       "text": [
        "<matplotlib.figure.Figure at 0xa21542c>"
       ]
      }
     ],
     "prompt_number": 30
    },
    {
     "cell_type": "code",
     "collapsed": false,
     "input": [],
     "language": "python",
     "metadata": {},
     "outputs": []
    }
   ],
   "metadata": {}
  }
 ]
}